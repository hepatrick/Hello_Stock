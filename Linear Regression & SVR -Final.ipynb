{
 "cells": [
  {
   "cell_type": "markdown",
   "metadata": {},
   "source": [
    "# Predicting Stock Prices with Linear Regression"
   ]
  },
  {
   "cell_type": "markdown",
   "metadata": {},
   "source": [
    "To answer the question if we can accurately predict stock prices over time, I'm going to use Stock Price history data from the Quadl API and apply a regression analysis method."
   ]
  },
  {
   "cell_type": "markdown",
   "metadata": {},
   "source": [
    "## Check out the Data\n",
    "\n",
    "### Import Libraries"
   ]
  },
  {
   "cell_type": "code",
   "execution_count": 1,
   "metadata": {},
   "outputs": [],
   "source": [
    "import numpy as np\n",
    "import pandas as pd\n",
    "import quandl\n",
    "import datetime\n",
    "from sklearn.model_selection import train_test_split\n",
    "from sklearn.linear_model import LinearRegression\n",
    "%matplotlib inline\n",
    "import matplotlib.pyplot as plt\n",
    "import seaborn as sns\n",
    "plt.style.use('seaborn-darkgrid')\n",
    "plt.rc('figure', figsize=(16,10))\n",
    "plt.rc('lines', markersize=4)"
   ]
  },
  {
   "cell_type": "markdown",
   "metadata": {},
   "source": [
    "### Configure Quandl"
   ]
  },
  {
   "cell_type": "code",
   "execution_count": 2,
   "metadata": {},
   "outputs": [],
   "source": [
    "#https://medium.com/@randerson112358/predict-stock-prices-using-python-machine-learning-53aa024da20a\n",
    "# Get the stock data\n",
    "\n",
    "quandl.ApiConfig.api_key = 'qKYyca8_q3vn5ws7FpwZ'\n",
    "\n",
    "\n",
    "# Set start and end date for stock prices\n",
    "start_date = datetime.date(2009, 1,31)\n",
    "end_date = datetime.date.today()\n",
    "\n",
    "df = quandl.get('WIKI/AAPL', start_date=start_date, end_date=end_date)\n",
    "# Take a look at the data\n",
    "#df.head()\n",
    "\n",
    "#df = quandl.get_table('WIKI/PRICES', ticker = ['AAPL'], \n",
    "#                        qopts = { 'columns': ['date', 'adj_close'] }, \n",
    "#                       date = { 'gte': '2012-03-15', 'lte': '2018-03-15' }, \n",
    "#                        paginate=True)\n",
    "df.to_csv('salesforce_stock.csv')"
   ]
  },
  {
   "cell_type": "markdown",
   "metadata": {},
   "source": [
    "### Get the Data"
   ]
  },
  {
   "cell_type": "code",
   "execution_count": 3,
   "metadata": {},
   "outputs": [
    {
     "data": {
      "text/html": [
       "<div>\n",
       "<style scoped>\n",
       "    .dataframe tbody tr th:only-of-type {\n",
       "        vertical-align: middle;\n",
       "    }\n",
       "\n",
       "    .dataframe tbody tr th {\n",
       "        vertical-align: top;\n",
       "    }\n",
       "\n",
       "    .dataframe thead th {\n",
       "        text-align: right;\n",
       "    }\n",
       "</style>\n",
       "<table border=\"1\" class=\"dataframe\">\n",
       "  <thead>\n",
       "    <tr style=\"text-align: right;\">\n",
       "      <th></th>\n",
       "      <th>Open</th>\n",
       "      <th>High</th>\n",
       "      <th>Low</th>\n",
       "      <th>Close</th>\n",
       "      <th>Volume</th>\n",
       "      <th>Ex-Dividend</th>\n",
       "      <th>Split Ratio</th>\n",
       "      <th>Adj. Open</th>\n",
       "      <th>Adj. High</th>\n",
       "      <th>Adj. Low</th>\n",
       "      <th>Adj. Close</th>\n",
       "      <th>Adj. Volume</th>\n",
       "    </tr>\n",
       "    <tr>\n",
       "      <th>Date</th>\n",
       "      <th></th>\n",
       "      <th></th>\n",
       "      <th></th>\n",
       "      <th></th>\n",
       "      <th></th>\n",
       "      <th></th>\n",
       "      <th></th>\n",
       "      <th></th>\n",
       "      <th></th>\n",
       "      <th></th>\n",
       "      <th></th>\n",
       "      <th></th>\n",
       "    </tr>\n",
       "  </thead>\n",
       "  <tbody>\n",
       "    <tr>\n",
       "      <th>2009-02-02</th>\n",
       "      <td>89.10</td>\n",
       "      <td>92.00</td>\n",
       "      <td>88.90</td>\n",
       "      <td>91.51</td>\n",
       "      <td>19937400.0</td>\n",
       "      <td>0.0</td>\n",
       "      <td>1.0</td>\n",
       "      <td>11.450592</td>\n",
       "      <td>11.823282</td>\n",
       "      <td>11.424889</td>\n",
       "      <td>11.760310</td>\n",
       "      <td>139561800.0</td>\n",
       "    </tr>\n",
       "    <tr>\n",
       "      <th>2009-02-03</th>\n",
       "      <td>91.92</td>\n",
       "      <td>93.38</td>\n",
       "      <td>90.28</td>\n",
       "      <td>92.98</td>\n",
       "      <td>21403900.0</td>\n",
       "      <td>0.0</td>\n",
       "      <td>1.0</td>\n",
       "      <td>11.813001</td>\n",
       "      <td>12.000631</td>\n",
       "      <td>11.602238</td>\n",
       "      <td>11.949226</td>\n",
       "      <td>149827300.0</td>\n",
       "    </tr>\n",
       "    <tr>\n",
       "      <th>2009-02-04</th>\n",
       "      <td>93.24</td>\n",
       "      <td>96.25</td>\n",
       "      <td>93.10</td>\n",
       "      <td>93.55</td>\n",
       "      <td>28872200.0</td>\n",
       "      <td>0.0</td>\n",
       "      <td>1.0</td>\n",
       "      <td>11.982640</td>\n",
       "      <td>12.369466</td>\n",
       "      <td>11.964648</td>\n",
       "      <td>12.022479</td>\n",
       "      <td>202105400.0</td>\n",
       "    </tr>\n",
       "    <tr>\n",
       "      <th>2009-02-05</th>\n",
       "      <td>92.77</td>\n",
       "      <td>97.25</td>\n",
       "      <td>92.62</td>\n",
       "      <td>96.46</td>\n",
       "      <td>26758800.0</td>\n",
       "      <td>0.0</td>\n",
       "      <td>1.0</td>\n",
       "      <td>11.922238</td>\n",
       "      <td>12.497980</td>\n",
       "      <td>11.902961</td>\n",
       "      <td>12.396454</td>\n",
       "      <td>187311600.0</td>\n",
       "    </tr>\n",
       "    <tr>\n",
       "      <th>2009-02-06</th>\n",
       "      <td>97.00</td>\n",
       "      <td>100.00</td>\n",
       "      <td>97.00</td>\n",
       "      <td>99.72</td>\n",
       "      <td>24543200.0</td>\n",
       "      <td>0.0</td>\n",
       "      <td>1.0</td>\n",
       "      <td>12.465852</td>\n",
       "      <td>12.851394</td>\n",
       "      <td>12.465852</td>\n",
       "      <td>12.815410</td>\n",
       "      <td>171802400.0</td>\n",
       "    </tr>\n",
       "  </tbody>\n",
       "</table>\n",
       "</div>"
      ],
      "text/plain": [
       "             Open    High    Low  Close      Volume  Ex-Dividend  Split Ratio  \\\n",
       "Date                                                                            \n",
       "2009-02-02  89.10   92.00  88.90  91.51  19937400.0          0.0          1.0   \n",
       "2009-02-03  91.92   93.38  90.28  92.98  21403900.0          0.0          1.0   \n",
       "2009-02-04  93.24   96.25  93.10  93.55  28872200.0          0.0          1.0   \n",
       "2009-02-05  92.77   97.25  92.62  96.46  26758800.0          0.0          1.0   \n",
       "2009-02-06  97.00  100.00  97.00  99.72  24543200.0          0.0          1.0   \n",
       "\n",
       "            Adj. Open  Adj. High   Adj. Low  Adj. Close  Adj. Volume  \n",
       "Date                                                                  \n",
       "2009-02-02  11.450592  11.823282  11.424889   11.760310  139561800.0  \n",
       "2009-02-03  11.813001  12.000631  11.602238   11.949226  149827300.0  \n",
       "2009-02-04  11.982640  12.369466  11.964648   12.022479  202105400.0  \n",
       "2009-02-05  11.922238  12.497980  11.902961   12.396454  187311600.0  \n",
       "2009-02-06  12.465852  12.851394  12.465852   12.815410  171802400.0  "
      ]
     },
     "execution_count": 3,
     "metadata": {},
     "output_type": "execute_result"
    }
   ],
   "source": [
    "df.head()"
   ]
  },
  {
   "cell_type": "code",
   "execution_count": 4,
   "metadata": {
    "scrolled": false
   },
   "outputs": [
    {
     "name": "stdout",
     "output_type": "stream",
     "text": [
      "<class 'pandas.core.frame.DataFrame'>\n",
      "DatetimeIndex: 2302 entries, 2009-02-02 to 2018-03-27\n",
      "Data columns (total 12 columns):\n",
      "Open           2302 non-null float64\n",
      "High           2302 non-null float64\n",
      "Low            2302 non-null float64\n",
      "Close          2302 non-null float64\n",
      "Volume         2302 non-null float64\n",
      "Ex-Dividend    2302 non-null float64\n",
      "Split Ratio    2302 non-null float64\n",
      "Adj. Open      2302 non-null float64\n",
      "Adj. High      2302 non-null float64\n",
      "Adj. Low       2302 non-null float64\n",
      "Adj. Close     2302 non-null float64\n",
      "Adj. Volume    2302 non-null float64\n",
      "dtypes: float64(12)\n",
      "memory usage: 233.8 KB\n"
     ]
    }
   ],
   "source": [
    "# Check data types in columns\n",
    "df.info()"
   ]
  },
  {
   "cell_type": "code",
   "execution_count": 5,
   "metadata": {
    "scrolled": true
   },
   "outputs": [
    {
     "data": {
      "text/html": [
       "<div>\n",
       "<style scoped>\n",
       "    .dataframe tbody tr th:only-of-type {\n",
       "        vertical-align: middle;\n",
       "    }\n",
       "\n",
       "    .dataframe tbody tr th {\n",
       "        vertical-align: top;\n",
       "    }\n",
       "\n",
       "    .dataframe thead th {\n",
       "        text-align: right;\n",
       "    }\n",
       "</style>\n",
       "<table border=\"1\" class=\"dataframe\">\n",
       "  <thead>\n",
       "    <tr style=\"text-align: right;\">\n",
       "      <th></th>\n",
       "      <th>Open</th>\n",
       "      <th>High</th>\n",
       "      <th>Low</th>\n",
       "      <th>Close</th>\n",
       "      <th>Volume</th>\n",
       "      <th>Ex-Dividend</th>\n",
       "      <th>Split Ratio</th>\n",
       "      <th>Adj. Open</th>\n",
       "      <th>Adj. High</th>\n",
       "      <th>Adj. Low</th>\n",
       "      <th>Adj. Close</th>\n",
       "      <th>Adj. Volume</th>\n",
       "    </tr>\n",
       "  </thead>\n",
       "  <tbody>\n",
       "    <tr>\n",
       "      <th>count</th>\n",
       "      <td>2302.000000</td>\n",
       "      <td>2302.000000</td>\n",
       "      <td>2302.000000</td>\n",
       "      <td>2302.000000</td>\n",
       "      <td>2.302000e+03</td>\n",
       "      <td>2302.000000</td>\n",
       "      <td>2302.000000</td>\n",
       "      <td>2302.000000</td>\n",
       "      <td>2302.000000</td>\n",
       "      <td>2302.000000</td>\n",
       "      <td>2302.000000</td>\n",
       "      <td>2.302000e+03</td>\n",
       "    </tr>\n",
       "    <tr>\n",
       "      <th>mean</th>\n",
       "      <td>275.594724</td>\n",
       "      <td>278.102318</td>\n",
       "      <td>272.790286</td>\n",
       "      <td>275.509234</td>\n",
       "      <td>2.734093e+07</td>\n",
       "      <td>0.013236</td>\n",
       "      <td>1.002606</td>\n",
       "      <td>79.540479</td>\n",
       "      <td>80.223821</td>\n",
       "      <td>78.810157</td>\n",
       "      <td>79.534439</td>\n",
       "      <td>8.953108e+07</td>\n",
       "    </tr>\n",
       "    <tr>\n",
       "      <th>std</th>\n",
       "      <td>176.187835</td>\n",
       "      <td>177.699997</td>\n",
       "      <td>174.318586</td>\n",
       "      <td>176.012673</td>\n",
       "      <td>1.841446e+07</td>\n",
       "      <td>0.177549</td>\n",
       "      <td>0.125054</td>\n",
       "      <td>42.206632</td>\n",
       "      <td>42.496327</td>\n",
       "      <td>41.913212</td>\n",
       "      <td>42.209329</td>\n",
       "      <td>6.086191e+07</td>\n",
       "    </tr>\n",
       "    <tr>\n",
       "      <th>min</th>\n",
       "      <td>84.120000</td>\n",
       "      <td>87.600000</td>\n",
       "      <td>82.330000</td>\n",
       "      <td>83.110000</td>\n",
       "      <td>5.624800e+06</td>\n",
       "      <td>0.000000</td>\n",
       "      <td>1.000000</td>\n",
       "      <td>10.810592</td>\n",
       "      <td>11.257821</td>\n",
       "      <td>10.580552</td>\n",
       "      <td>10.680793</td>\n",
       "      <td>1.147592e+07</td>\n",
       "    </tr>\n",
       "    <tr>\n",
       "      <th>25%</th>\n",
       "      <td>119.202500</td>\n",
       "      <td>120.117500</td>\n",
       "      <td>118.435000</td>\n",
       "      <td>119.562500</td>\n",
       "      <td>1.476375e+07</td>\n",
       "      <td>0.000000</td>\n",
       "      <td>1.000000</td>\n",
       "      <td>44.724135</td>\n",
       "      <td>44.979878</td>\n",
       "      <td>44.407349</td>\n",
       "      <td>44.744698</td>\n",
       "      <td>4.078568e+07</td>\n",
       "    </tr>\n",
       "    <tr>\n",
       "      <th>50%</th>\n",
       "      <td>195.050000</td>\n",
       "      <td>196.700000</td>\n",
       "      <td>191.695000</td>\n",
       "      <td>194.255000</td>\n",
       "      <td>2.190160e+07</td>\n",
       "      <td>0.000000</td>\n",
       "      <td>1.000000</td>\n",
       "      <td>73.774172</td>\n",
       "      <td>74.184030</td>\n",
       "      <td>73.088511</td>\n",
       "      <td>73.537603</td>\n",
       "      <td>7.670496e+07</td>\n",
       "    </tr>\n",
       "    <tr>\n",
       "      <th>75%</th>\n",
       "      <td>423.167500</td>\n",
       "      <td>426.895000</td>\n",
       "      <td>419.647500</td>\n",
       "      <td>422.512500</td>\n",
       "      <td>3.403747e+07</td>\n",
       "      <td>0.000000</td>\n",
       "      <td>1.000000</td>\n",
       "      <td>108.505538</td>\n",
       "      <td>109.864139</td>\n",
       "      <td>107.593791</td>\n",
       "      <td>108.873706</td>\n",
       "      <td>1.201751e+08</td>\n",
       "    </tr>\n",
       "    <tr>\n",
       "      <th>max</th>\n",
       "      <td>702.410000</td>\n",
       "      <td>705.070000</td>\n",
       "      <td>699.570000</td>\n",
       "      <td>702.100000</td>\n",
       "      <td>1.895606e+08</td>\n",
       "      <td>3.290000</td>\n",
       "      <td>7.000000</td>\n",
       "      <td>182.590000</td>\n",
       "      <td>183.500000</td>\n",
       "      <td>180.210000</td>\n",
       "      <td>181.720000</td>\n",
       "      <td>4.702495e+08</td>\n",
       "    </tr>\n",
       "  </tbody>\n",
       "</table>\n",
       "</div>"
      ],
      "text/plain": [
       "              Open         High          Low        Close        Volume  \\\n",
       "count  2302.000000  2302.000000  2302.000000  2302.000000  2.302000e+03   \n",
       "mean    275.594724   278.102318   272.790286   275.509234  2.734093e+07   \n",
       "std     176.187835   177.699997   174.318586   176.012673  1.841446e+07   \n",
       "min      84.120000    87.600000    82.330000    83.110000  5.624800e+06   \n",
       "25%     119.202500   120.117500   118.435000   119.562500  1.476375e+07   \n",
       "50%     195.050000   196.700000   191.695000   194.255000  2.190160e+07   \n",
       "75%     423.167500   426.895000   419.647500   422.512500  3.403747e+07   \n",
       "max     702.410000   705.070000   699.570000   702.100000  1.895606e+08   \n",
       "\n",
       "       Ex-Dividend  Split Ratio    Adj. Open    Adj. High     Adj. Low  \\\n",
       "count  2302.000000  2302.000000  2302.000000  2302.000000  2302.000000   \n",
       "mean      0.013236     1.002606    79.540479    80.223821    78.810157   \n",
       "std       0.177549     0.125054    42.206632    42.496327    41.913212   \n",
       "min       0.000000     1.000000    10.810592    11.257821    10.580552   \n",
       "25%       0.000000     1.000000    44.724135    44.979878    44.407349   \n",
       "50%       0.000000     1.000000    73.774172    74.184030    73.088511   \n",
       "75%       0.000000     1.000000   108.505538   109.864139   107.593791   \n",
       "max       3.290000     7.000000   182.590000   183.500000   180.210000   \n",
       "\n",
       "        Adj. Close   Adj. Volume  \n",
       "count  2302.000000  2.302000e+03  \n",
       "mean     79.534439  8.953108e+07  \n",
       "std      42.209329  6.086191e+07  \n",
       "min      10.680793  1.147592e+07  \n",
       "25%      44.744698  4.078568e+07  \n",
       "50%      73.537603  7.670496e+07  \n",
       "75%     108.873706  1.201751e+08  \n",
       "max     181.720000  4.702495e+08  "
      ]
     },
     "execution_count": 5,
     "metadata": {},
     "output_type": "execute_result"
    }
   ],
   "source": [
    "# Get descriptive statistics summary of data set \n",
    "df.describe()"
   ]
  },
  {
   "cell_type": "code",
   "execution_count": 6,
   "metadata": {},
   "outputs": [
    {
     "data": {
      "text/plain": [
       "Index(['Open', 'High', 'Low', 'Close', 'Volume', 'Ex-Dividend', 'Split Ratio',\n",
       "       'Adj. Open', 'Adj. High', 'Adj. Low', 'Adj. Close', 'Adj. Volume'],\n",
       "      dtype='object')"
      ]
     },
     "execution_count": 6,
     "metadata": {},
     "output_type": "execute_result"
    }
   ],
   "source": [
    "# Display features in data set\n",
    "df.columns"
   ]
  },
  {
   "cell_type": "markdown",
   "metadata": {},
   "source": [
    "### Select Subset with relevant features\n",
    "\n",
    "We use the daily closing price **Close** as the value to predict, so we can discard the other features.  \n",
    "\n",
    "* 'Close' column has numerical data type\n",
    "* The 'Date' is the index column and contains datetime values"
   ]
  },
  {
   "cell_type": "code",
   "execution_count": 9,
   "metadata": {},
   "outputs": [
    {
     "data": {
      "text/plain": [
       "array([172.31370638, 169.60861276])"
      ]
     },
     "execution_count": 9,
     "metadata": {},
     "output_type": "execute_result"
    }
   ],
   "source": [
    "# Create a new DataFrame with only closing price and date\n",
    "lr_prediction_list = []\n",
    "stock_close_df = []\n",
    "\n",
    "df1 = pd.DataFrame(df, columns=['Adj. Close'])\n",
    "forecast_out = 2\n",
    "df1['Prediction'] = df1[['Adj. Close']].shift(-forecast_out)\n",
    "df['Prediction'] = df[['Adj. Close']].shift(-forecast_out)\n",
    "        \n",
    "# Define X data set\n",
    "X = np.array(df.drop(['Prediction'],1))\n",
    "X = X[:-forecast_out]\n",
    "        \n",
    "# Define Y data set\n",
    "y = np.array(df['Prediction'])\n",
    "y = y[:-forecast_out]\n",
    "\n",
    "# Split the data into 80% training and 20% testing\n",
    "x_train, x_test, y_train, y_test = train_test_split(X, y, test_size=0.2)\n",
    "\n",
    "# Create and train the Linear Regression  Model\n",
    "lr = LinearRegression()\n",
    "# Train the model\n",
    "lr.fit(x_train, y_train)\n",
    "\n",
    "lr_confidence = lr.score(x_test, y_test)\n",
    "x_forecast = np.array(df.drop(['Prediction'],1))[-forecast_out:]\n",
    "        \n",
    "# Prediction\n",
    "lr_prediction = lr.predict(x_forecast)\n",
    "\n",
    "lr_prediction"
   ]
  },
  {
   "cell_type": "code",
   "execution_count": 10,
   "metadata": {},
   "outputs": [],
   "source": [
    "value1 = lr_prediction[0]\n",
    "value2 = lr_prediction[1]\n",
    "\n",
    "length = len(df1)\n",
    "\n",
    "df1.at['2018-03-26 00:00:00', 'Prediction'] = value1\n",
    "df1.at['2018-03-27 00:00:00', 'Prediction'] = value2"
   ]
  },
  {
   "cell_type": "code",
   "execution_count": 11,
   "metadata": {},
   "outputs": [
    {
     "data": {
      "text/html": [
       "<div>\n",
       "<style scoped>\n",
       "    .dataframe tbody tr th:only-of-type {\n",
       "        vertical-align: middle;\n",
       "    }\n",
       "\n",
       "    .dataframe tbody tr th {\n",
       "        vertical-align: top;\n",
       "    }\n",
       "\n",
       "    .dataframe thead th {\n",
       "        text-align: right;\n",
       "    }\n",
       "</style>\n",
       "<table border=\"1\" class=\"dataframe\">\n",
       "  <thead>\n",
       "    <tr style=\"text-align: right;\">\n",
       "      <th></th>\n",
       "      <th>Adj. Close</th>\n",
       "      <th>Prediction</th>\n",
       "    </tr>\n",
       "    <tr>\n",
       "      <th>Date</th>\n",
       "      <th></th>\n",
       "      <th></th>\n",
       "    </tr>\n",
       "  </thead>\n",
       "  <tbody>\n",
       "    <tr>\n",
       "      <th>2018-03-21</th>\n",
       "      <td>171.270</td>\n",
       "      <td>164.940000</td>\n",
       "    </tr>\n",
       "    <tr>\n",
       "      <th>2018-03-22</th>\n",
       "      <td>168.845</td>\n",
       "      <td>172.770000</td>\n",
       "    </tr>\n",
       "    <tr>\n",
       "      <th>2018-03-23</th>\n",
       "      <td>164.940</td>\n",
       "      <td>168.340000</td>\n",
       "    </tr>\n",
       "    <tr>\n",
       "      <th>2018-03-26</th>\n",
       "      <td>172.770</td>\n",
       "      <td>172.313706</td>\n",
       "    </tr>\n",
       "    <tr>\n",
       "      <th>2018-03-27</th>\n",
       "      <td>168.340</td>\n",
       "      <td>169.608613</td>\n",
       "    </tr>\n",
       "  </tbody>\n",
       "</table>\n",
       "</div>"
      ],
      "text/plain": [
       "            Adj. Close  Prediction\n",
       "Date                              \n",
       "2018-03-21     171.270  164.940000\n",
       "2018-03-22     168.845  172.770000\n",
       "2018-03-23     164.940  168.340000\n",
       "2018-03-26     172.770  172.313706\n",
       "2018-03-27     168.340  169.608613"
      ]
     },
     "execution_count": 11,
     "metadata": {},
     "output_type": "execute_result"
    }
   ],
   "source": [
    "df1.tail()"
   ]
  },
  {
   "cell_type": "code",
   "execution_count": 13,
   "metadata": {},
   "outputs": [],
   "source": [
    "df1 = df1.reset_index()"
   ]
  },
  {
   "cell_type": "code",
   "execution_count": 14,
   "metadata": {
    "scrolled": true
   },
   "outputs": [
    {
     "data": {
      "text/html": [
       "<div>\n",
       "<style scoped>\n",
       "    .dataframe tbody tr th:only-of-type {\n",
       "        vertical-align: middle;\n",
       "    }\n",
       "\n",
       "    .dataframe tbody tr th {\n",
       "        vertical-align: top;\n",
       "    }\n",
       "\n",
       "    .dataframe thead th {\n",
       "        text-align: right;\n",
       "    }\n",
       "</style>\n",
       "<table border=\"1\" class=\"dataframe\">\n",
       "  <thead>\n",
       "    <tr style=\"text-align: right;\">\n",
       "      <th></th>\n",
       "      <th>Date</th>\n",
       "      <th>Adj. Close</th>\n",
       "      <th>Prediction</th>\n",
       "    </tr>\n",
       "  </thead>\n",
       "  <tbody>\n",
       "    <tr>\n",
       "      <th>2297</th>\n",
       "      <td>2018-03-21</td>\n",
       "      <td>171.270</td>\n",
       "      <td>164.940000</td>\n",
       "    </tr>\n",
       "    <tr>\n",
       "      <th>2298</th>\n",
       "      <td>2018-03-22</td>\n",
       "      <td>168.845</td>\n",
       "      <td>172.770000</td>\n",
       "    </tr>\n",
       "    <tr>\n",
       "      <th>2299</th>\n",
       "      <td>2018-03-23</td>\n",
       "      <td>164.940</td>\n",
       "      <td>168.340000</td>\n",
       "    </tr>\n",
       "    <tr>\n",
       "      <th>2300</th>\n",
       "      <td>2018-03-26</td>\n",
       "      <td>172.770</td>\n",
       "      <td>172.313706</td>\n",
       "    </tr>\n",
       "    <tr>\n",
       "      <th>2301</th>\n",
       "      <td>2018-03-27</td>\n",
       "      <td>168.340</td>\n",
       "      <td>169.608613</td>\n",
       "    </tr>\n",
       "  </tbody>\n",
       "</table>\n",
       "</div>"
      ],
      "text/plain": [
       "           Date  Adj. Close  Prediction\n",
       "2297 2018-03-21     171.270  164.940000\n",
       "2298 2018-03-22     168.845  172.770000\n",
       "2299 2018-03-23     164.940  168.340000\n",
       "2300 2018-03-26     172.770  172.313706\n",
       "2301 2018-03-27     168.340  169.608613"
      ]
     },
     "execution_count": 14,
     "metadata": {},
     "output_type": "execute_result"
    }
   ],
   "source": [
    "df1.tail()"
   ]
  },
  {
   "cell_type": "code",
   "execution_count": 15,
   "metadata": {
    "scrolled": true
   },
   "outputs": [
    {
     "name": "stdout",
     "output_type": "stream",
     "text": [
      "<class 'pandas.core.frame.DataFrame'>\n",
      "RangeIndex: 2302 entries, 0 to 2301\n",
      "Data columns (total 3 columns):\n",
      "Date          2302 non-null datetime64[ns]\n",
      "Adj. Close    2302 non-null float64\n",
      "Prediction    2302 non-null float64\n",
      "dtypes: datetime64[ns](1), float64(2)\n",
      "memory usage: 54.0 KB\n"
     ]
    }
   ],
   "source": [
    "# Check data types in columns\n",
    "df1.info()"
   ]
  },
  {
   "cell_type": "code",
   "execution_count": 16,
   "metadata": {},
   "outputs": [
    {
     "data": {
      "text/plain": [
       "False"
      ]
     },
     "execution_count": 16,
     "metadata": {},
     "output_type": "execute_result"
    }
   ],
   "source": [
    "# Check for missing values in the columns\n",
    "df1.isna().values.any()"
   ]
  },
  {
   "cell_type": "markdown",
   "metadata": {},
   "source": [
    "\n",
    "## Explore the Data\n",
    "\n",
    "When we take a look at the price movement over time by simply plotting the *Closing price* vs *Time*, we can already see, that the price continously increases over time and we can also estimate that trend could be linear."
   ]
  },
  {
   "cell_type": "code",
   "execution_count": 17,
   "metadata": {},
   "outputs": [
    {
     "name": "stderr",
     "output_type": "stream",
     "text": [
      "C:\\Anaconda\\lib\\site-packages\\pandas\\plotting\\_converter.py:129: FutureWarning: Using an implicitly registered datetime converter for a matplotlib plotting method. The converter was registered by pandas on import. Future versions of pandas will require you to explicitly register matplotlib converters.\n",
      "\n",
      "To register the converters:\n",
      "\t>>> from pandas.plotting import register_matplotlib_converters\n",
      "\t>>> register_matplotlib_converters()\n",
      "  warnings.warn(msg, FutureWarning)\n"
     ]
    },
    {
     "data": {
      "image/png": "[encoded data removed]",
      "text/plain": [
       "<Figure size 432x288 with 1 Axes>"
      ]
     },
     "metadata": {
      "needs_background": "light"
     },
     "output_type": "display_data"
    }
   ],
   "source": [
    "# Import matplotlib package for date plots\n",
    "import matplotlib.dates as mdates\n",
    "\n",
    "years = mdates.YearLocator() # Get every year\n",
    "yearsFmt = mdates.DateFormatter('%Y') # Set year format\n",
    "\n",
    "# Create subplots to plot graph and control axes\n",
    "fig, ax = plt.subplots()\n",
    "ax.plot(df1['Date'], df['Adj. Close'])\n",
    "\n",
    "# Format the ticks\n",
    "ax.xaxis.set_major_locator(years)\n",
    "ax.xaxis.set_major_formatter(yearsFmt)\n",
    "\n",
    "# Set figure title\n",
    "plt.title('Close Stock Price History [2009 - 2019]', fontsize=16)\n",
    "# Set x label\n",
    "plt.xlabel('Date', fontsize=14)\n",
    "# Set y label\n",
    "plt.ylabel('Closing Stock Price in $', fontsize=14)\n",
    "\n",
    "# Rotate and align the x labels\n",
    "fig.autofmt_xdate()\n",
    "\n",
    "# Show plot\n",
    "plt.show()"
   ]
  },
  {
   "cell_type": "markdown",
   "metadata": {},
   "source": [
    "## Linear Regression\n",
    " \n",
    "Our data contains only one **independent variable ($X$)** which represents the *date* and the **dependent variable ($Y$)** we are trying to predict is the *Stock Price*. To fit a line to the data points, which then represents an estimated relationship between $X$ and $Y$, we can use a **Simple Linear Regression**.\n",
    "\n",
    "The best fit line can be described with  \n",
    "$$\n",
    "Y = \\beta_0 + \\beta_1 X\n",
    "$$\n",
    "\n",
    "where  \n",
    "* $Y$ is the predicted value of the dependent variable\n",
    "* $\\beta_0$ is the y-intercept\n",
    "* $\\beta_1$ is the slope\n",
    "* $X$ is the value of the independent variable\n",
    "\n",
    "The goal is to find such coefficients $\\beta_0$ and $\\beta_1$ that the **Sum of Squared Errors**, which represents the difference between each point in the dataset with it’s corresponding predicted value outputted by the model, is minimal."
   ]
  },
  {
   "cell_type": "markdown",
   "metadata": {},
   "source": [
    "### Training a Linear Regression Model"
   ]
  },
  {
   "cell_type": "markdown",
   "metadata": {},
   "source": [
    "### Train Test Split"
   ]
  },
  {
   "cell_type": "code",
   "execution_count": 18,
   "metadata": {},
   "outputs": [],
   "source": [
    "# Import package for splitting data set\n",
    "from sklearn.model_selection import train_test_split"
   ]
  },
  {
   "cell_type": "code",
   "execution_count": 19,
   "metadata": {},
   "outputs": [],
   "source": [
    "# Split data into train and test set: 80% / 20%\n",
    "train, test = train_test_split(df1, test_size=0.20)"
   ]
  },
  {
   "cell_type": "markdown",
   "metadata": {},
   "source": [
    "### Create and Train the Model"
   ]
  },
  {
   "cell_type": "code",
   "execution_count": 20,
   "metadata": {},
   "outputs": [],
   "source": [
    "# Import package for linear model\n",
    "from sklearn.linear_model import LinearRegression"
   ]
  },
  {
   "cell_type": "code",
   "execution_count": 21,
   "metadata": {},
   "outputs": [],
   "source": [
    "# Reshape index column to 2D array for .fit() method\n",
    "X_train = np.array(train.index).reshape(-1, 1)\n",
    "y_train = train['Adj. Close']"
   ]
  },
  {
   "cell_type": "code",
   "execution_count": 22,
   "metadata": {},
   "outputs": [
    {
     "data": {
      "text/plain": [
       "LinearRegression(copy_X=True, fit_intercept=True, n_jobs=None,\n",
       "         normalize=False)"
      ]
     },
     "execution_count": 22,
     "metadata": {},
     "output_type": "execute_result"
    }
   ],
   "source": [
    "# Create LinearRegression Object\n",
    "model = LinearRegression()\n",
    "# Fit linear model using the train data set\n",
    "model.fit(X_train, y_train)"
   ]
  },
  {
   "cell_type": "markdown",
   "metadata": {},
   "source": [
    "### Model Evaluation"
   ]
  },
  {
   "cell_type": "code",
   "execution_count": 23,
   "metadata": {
    "scrolled": true
   },
   "outputs": [
    {
     "name": "stdout",
     "output_type": "stream",
     "text": [
      "Slope:  0.06021460627053846\n",
      "Intercept:  10.233741048211755\n"
     ]
    }
   ],
   "source": [
    "# The coefficient\n",
    "print('Slope: ', np.asscalar(np.squeeze(model.coef_)))\n",
    "# The Intercept\n",
    "print('Intercept: ', model.intercept_)"
   ]
  },
  {
   "cell_type": "markdown",
   "metadata": {},
   "source": [
    "\n",
    "Interpreting the coefficients:\n",
    "\n",
    "* The **slope** coefficient tells us that with a 1 unit increase in **date** the **closing price** increases by 0.0276 $\n",
    "* The **intercept** coefficient is the price at wich the **closing price** measurement started, the stock price value at date zero"
   ]
  },
  {
   "cell_type": "code",
   "execution_count": 24,
   "metadata": {},
   "outputs": [
    {
     "data": {
      "image/png": "[encoded data removed]",
      "text/plain": [
       "<Figure size 1152x720 with 1 Axes>"
      ]
     },
     "metadata": {
      "needs_background": "light"
     },
     "output_type": "display_data"
    }
   ],
   "source": [
    "# Train set graph\n",
    "plt.figure(1, figsize=(16,10))\n",
    "plt.title('Linear Regression | Price vs Time')\n",
    "plt.scatter(X_train, y_train, edgecolor='w', label='Actual Price')\n",
    "plt.plot(X_train, model.predict(X_train), color='r', label='Predicted Price')\n",
    "plt.xlabel('Integer Date')\n",
    "plt.ylabel('Stock Price')\n",
    "plt.legend()\n",
    "plt.show()"
   ]
  },
  {
   "cell_type": "markdown",
   "metadata": {},
   "source": [
    "### Prediction from our Model"
   ]
  },
  {
   "cell_type": "code",
   "execution_count": 25,
   "metadata": {},
   "outputs": [],
   "source": [
    "# Create test arrays\n",
    "X_test = np.array(test.index).reshape(-1, 1)\n",
    "y_test = test['Adj. Close']"
   ]
  },
  {
   "cell_type": "code",
   "execution_count": 26,
   "metadata": {},
   "outputs": [],
   "source": [
    "# Generate array with predicted values\n",
    "y_pred = model.predict(X_test)"
   ]
  },
  {
   "cell_type": "markdown",
   "metadata": {},
   "source": [
    "## Regression Evaluation"
   ]
  },
  {
   "cell_type": "markdown",
   "metadata": {},
   "source": [
    "Let's have a look at how the predicted values compare with the actual value on random sample from our data set."
   ]
  },
  {
   "cell_type": "code",
   "execution_count": 27,
   "metadata": {},
   "outputs": [
    {
     "data": {
      "text/plain": [
       "(2302, 3)"
      ]
     },
     "execution_count": 27,
     "metadata": {},
     "output_type": "execute_result"
    }
   ],
   "source": [
    "# Get number of rows in data set for random sample\n",
    "df1.shape"
   ]
  },
  {
   "cell_type": "code",
   "execution_count": 28,
   "metadata": {},
   "outputs": [],
   "source": [
    "# Generate 25 random numbers\n",
    "randints = np.random.randint(len(df1), size=25)\n",
    "\n",
    "# Select row numbers == random numbers\n",
    "df1_sample = df1[df1.index.isin(randints)]"
   ]
  },
  {
   "cell_type": "code",
   "execution_count": 29,
   "metadata": {
    "scrolled": true
   },
   "outputs": [
    {
     "data": {
      "text/html": [
       "<div>\n",
       "<style scoped>\n",
       "    .dataframe tbody tr th:only-of-type {\n",
       "        vertical-align: middle;\n",
       "    }\n",
       "\n",
       "    .dataframe tbody tr th {\n",
       "        vertical-align: top;\n",
       "    }\n",
       "\n",
       "    .dataframe thead th {\n",
       "        text-align: right;\n",
       "    }\n",
       "</style>\n",
       "<table border=\"1\" class=\"dataframe\">\n",
       "  <thead>\n",
       "    <tr style=\"text-align: right;\">\n",
       "      <th></th>\n",
       "      <th>Date</th>\n",
       "      <th>Adj. Close</th>\n",
       "      <th>Prediction</th>\n",
       "    </tr>\n",
       "  </thead>\n",
       "  <tbody>\n",
       "    <tr>\n",
       "      <th>82</th>\n",
       "      <td>2009-06-01</td>\n",
       "      <td>17.908417</td>\n",
       "      <td>18.114040</td>\n",
       "    </tr>\n",
       "    <tr>\n",
       "      <th>226</th>\n",
       "      <td>2009-12-23</td>\n",
       "      <td>25.972667</td>\n",
       "      <td>27.194834</td>\n",
       "    </tr>\n",
       "    <tr>\n",
       "      <th>242</th>\n",
       "      <td>2010-01-19</td>\n",
       "      <td>27.635637</td>\n",
       "      <td>26.740152</td>\n",
       "    </tr>\n",
       "    <tr>\n",
       "      <th>251</th>\n",
       "      <td>2010-02-01</td>\n",
       "      <td>25.025519</td>\n",
       "      <td>25.603832</td>\n",
       "    </tr>\n",
       "    <tr>\n",
       "      <th>522</th>\n",
       "      <td>2011-02-28</td>\n",
       "      <td>45.392408</td>\n",
       "      <td>45.252328</td>\n",
       "    </tr>\n",
       "  </tbody>\n",
       "</table>\n",
       "</div>"
      ],
      "text/plain": [
       "          Date  Adj. Close  Prediction\n",
       "82  2009-06-01   17.908417   18.114040\n",
       "226 2009-12-23   25.972667   27.194834\n",
       "242 2010-01-19   27.635637   26.740152\n",
       "251 2010-02-01   25.025519   25.603832\n",
       "522 2011-02-28   45.392408   45.252328"
      ]
     },
     "execution_count": 29,
     "metadata": {},
     "output_type": "execute_result"
    }
   ],
   "source": [
    "df1_sample.head()"
   ]
  },
  {
   "cell_type": "code",
   "execution_count": 30,
   "metadata": {},
   "outputs": [
    {
     "data": {
      "image/png": "[encoded data removed]",
      "text/plain": [
       "<Figure size 432x288 with 1 Axes>"
      ]
     },
     "metadata": {
      "needs_background": "light"
     },
     "output_type": "display_data"
    }
   ],
   "source": [
    "# Create subplots to plot graph and control axes\n",
    "fig, ax = plt.subplots()\n",
    "df1_sample.plot(x='Date', y=['Adj. Close', 'Prediction'], kind='bar', ax=ax)\n",
    "\n",
    "# Set figure title\n",
    "plt.title('Comparison Predicted vs Actual Price in Sample data selection', fontsize=16)\n",
    "\n",
    "# \n",
    "\n",
    "# Set x label\n",
    "plt.xlabel('Date', fontsize=14)\n",
    "\n",
    "# Set y label\n",
    "plt.ylabel('Stock Price in $', fontsize=14)\n",
    "\n",
    "# Show plot\n",
    "plt.show()"
   ]
  },
  {
   "cell_type": "markdown",
   "metadata": {},
   "source": [
    "We can see some larger variations between predicted and actual values in the random sample.  \n",
    "Let's see how the model performed over the whole test data set. "
   ]
  },
  {
   "cell_type": "code",
   "execution_count": 31,
   "metadata": {},
   "outputs": [
    {
     "ename": "TypeError",
     "evalue": "__init__() got an unexpected keyword argument 'label'",
     "output_type": "error",
     "traceback": [
      "\u001b[1;31m---------------------------------------------------------------------------\u001b[0m",
      "\u001b[1;31mTypeError\u001b[0m                                 Traceback (most recent call last)",
      "\u001b[1;32m<ipython-input-31-01abe0044b22>\u001b[0m in \u001b[0;36m<module>\u001b[1;34m\u001b[0m\n\u001b[0;32m      3\u001b[0m \u001b[0mplt\u001b[0m\u001b[1;33m.\u001b[0m\u001b[0mtitle\u001b[0m\u001b[1;33m(\u001b[0m\u001b[1;34m'Linear Regression | Price vs Time'\u001b[0m\u001b[1;33m)\u001b[0m\u001b[1;33m\u001b[0m\u001b[1;33m\u001b[0m\u001b[0m\n\u001b[0;32m      4\u001b[0m \u001b[0mplt\u001b[0m\u001b[1;33m.\u001b[0m\u001b[0mplot\u001b[0m\u001b[1;33m(\u001b[0m\u001b[0mX_test\u001b[0m\u001b[1;33m,\u001b[0m \u001b[0mmodel\u001b[0m\u001b[1;33m.\u001b[0m\u001b[0mpredict\u001b[0m\u001b[1;33m(\u001b[0m\u001b[0mX_test\u001b[0m\u001b[1;33m)\u001b[0m\u001b[1;33m,\u001b[0m \u001b[0mcolor\u001b[0m\u001b[1;33m=\u001b[0m\u001b[1;34m'r'\u001b[0m\u001b[1;33m,\u001b[0m \u001b[0mlabel\u001b[0m\u001b[1;33m=\u001b[0m\u001b[1;34m'Predicted Price'\u001b[0m\u001b[1;33m)\u001b[0m\u001b[1;33m\u001b[0m\u001b[1;33m\u001b[0m\u001b[0m\n\u001b[1;32m----> 5\u001b[1;33m \u001b[0mplt\u001b[0m\u001b[1;33m.\u001b[0m\u001b[0msubplots\u001b[0m\u001b[1;33m(\u001b[0m\u001b[0mX_test\u001b[0m\u001b[1;33m,\u001b[0m \u001b[0my_test\u001b[0m\u001b[1;33m,\u001b[0m \u001b[0medgecolor\u001b[0m\u001b[1;33m=\u001b[0m\u001b[1;34m'w'\u001b[0m\u001b[1;33m,\u001b[0m \u001b[0mlabel\u001b[0m\u001b[1;33m=\u001b[0m\u001b[1;34m'Actual Price'\u001b[0m\u001b[1;33m)\u001b[0m\u001b[1;33m\u001b[0m\u001b[1;33m\u001b[0m\u001b[0m\n\u001b[0m\u001b[0;32m      6\u001b[0m \u001b[1;33m\u001b[0m\u001b[0m\n\u001b[0;32m      7\u001b[0m \u001b[0mplt\u001b[0m\u001b[1;33m.\u001b[0m\u001b[0mxlabel\u001b[0m\u001b[1;33m(\u001b[0m\u001b[1;34m'Integer Date'\u001b[0m\u001b[1;33m)\u001b[0m\u001b[1;33m\u001b[0m\u001b[1;33m\u001b[0m\u001b[0m\n",
      "\u001b[1;32mC:\\Anaconda\\lib\\site-packages\\matplotlib\\pyplot.py\u001b[0m in \u001b[0;36msubplots\u001b[1;34m(nrows, ncols, sharex, sharey, squeeze, subplot_kw, gridspec_kw, **fig_kw)\u001b[0m\n\u001b[0;32m   1215\u001b[0m \u001b[1;33m\u001b[0m\u001b[0m\n\u001b[0;32m   1216\u001b[0m     \"\"\"\n\u001b[1;32m-> 1217\u001b[1;33m     \u001b[0mfig\u001b[0m \u001b[1;33m=\u001b[0m \u001b[0mfigure\u001b[0m\u001b[1;33m(\u001b[0m\u001b[1;33m**\u001b[0m\u001b[0mfig_kw\u001b[0m\u001b[1;33m)\u001b[0m\u001b[1;33m\u001b[0m\u001b[1;33m\u001b[0m\u001b[0m\n\u001b[0m\u001b[0;32m   1218\u001b[0m     axs = fig.subplots(nrows=nrows, ncols=ncols, sharex=sharex, sharey=sharey,\n\u001b[0;32m   1219\u001b[0m                        \u001b[0msqueeze\u001b[0m\u001b[1;33m=\u001b[0m\u001b[0msqueeze\u001b[0m\u001b[1;33m,\u001b[0m \u001b[0msubplot_kw\u001b[0m\u001b[1;33m=\u001b[0m\u001b[0msubplot_kw\u001b[0m\u001b[1;33m,\u001b[0m\u001b[1;33m\u001b[0m\u001b[1;33m\u001b[0m\u001b[0m\n",
      "\u001b[1;32mC:\\Anaconda\\lib\\site-packages\\matplotlib\\pyplot.py\u001b[0m in \u001b[0;36mfigure\u001b[1;34m(num, figsize, dpi, facecolor, edgecolor, frameon, FigureClass, clear, **kwargs)\u001b[0m\n\u001b[0;32m    523\u001b[0m                                         \u001b[0mframeon\u001b[0m\u001b[1;33m=\u001b[0m\u001b[0mframeon\u001b[0m\u001b[1;33m,\u001b[0m\u001b[1;33m\u001b[0m\u001b[1;33m\u001b[0m\u001b[0m\n\u001b[0;32m    524\u001b[0m                                         \u001b[0mFigureClass\u001b[0m\u001b[1;33m=\u001b[0m\u001b[0mFigureClass\u001b[0m\u001b[1;33m,\u001b[0m\u001b[1;33m\u001b[0m\u001b[1;33m\u001b[0m\u001b[0m\n\u001b[1;32m--> 525\u001b[1;33m                                         **kwargs)\n\u001b[0m\u001b[0;32m    526\u001b[0m \u001b[1;33m\u001b[0m\u001b[0m\n\u001b[0;32m    527\u001b[0m         \u001b[1;32mif\u001b[0m \u001b[0mfigLabel\u001b[0m\u001b[1;33m:\u001b[0m\u001b[1;33m\u001b[0m\u001b[1;33m\u001b[0m\u001b[0m\n",
      "\u001b[1;32mC:\\Anaconda\\lib\\site-packages\\matplotlib\\backend_bases.py\u001b[0m in \u001b[0;36mnew_figure_manager\u001b[1;34m(cls, num, *args, **kwargs)\u001b[0m\n\u001b[0;32m   3215\u001b[0m         \u001b[1;32mfrom\u001b[0m \u001b[0mmatplotlib\u001b[0m\u001b[1;33m.\u001b[0m\u001b[0mfigure\u001b[0m \u001b[1;32mimport\u001b[0m \u001b[0mFigure\u001b[0m\u001b[1;33m\u001b[0m\u001b[1;33m\u001b[0m\u001b[0m\n\u001b[0;32m   3216\u001b[0m         \u001b[0mfig_cls\u001b[0m \u001b[1;33m=\u001b[0m \u001b[0mkwargs\u001b[0m\u001b[1;33m.\u001b[0m\u001b[0mpop\u001b[0m\u001b[1;33m(\u001b[0m\u001b[1;34m'FigureClass'\u001b[0m\u001b[1;33m,\u001b[0m \u001b[0mFigure\u001b[0m\u001b[1;33m)\u001b[0m\u001b[1;33m\u001b[0m\u001b[1;33m\u001b[0m\u001b[0m\n\u001b[1;32m-> 3217\u001b[1;33m         \u001b[0mfig\u001b[0m \u001b[1;33m=\u001b[0m \u001b[0mfig_cls\u001b[0m\u001b[1;33m(\u001b[0m\u001b[1;33m*\u001b[0m\u001b[0margs\u001b[0m\u001b[1;33m,\u001b[0m \u001b[1;33m**\u001b[0m\u001b[0mkwargs\u001b[0m\u001b[1;33m)\u001b[0m\u001b[1;33m\u001b[0m\u001b[1;33m\u001b[0m\u001b[0m\n\u001b[0m\u001b[0;32m   3218\u001b[0m         \u001b[1;32mreturn\u001b[0m \u001b[0mcls\u001b[0m\u001b[1;33m.\u001b[0m\u001b[0mnew_figure_manager_given_figure\u001b[0m\u001b[1;33m(\u001b[0m\u001b[0mnum\u001b[0m\u001b[1;33m,\u001b[0m \u001b[0mfig\u001b[0m\u001b[1;33m)\u001b[0m\u001b[1;33m\u001b[0m\u001b[1;33m\u001b[0m\u001b[0m\n\u001b[0;32m   3219\u001b[0m \u001b[1;33m\u001b[0m\u001b[0m\n",
      "\u001b[1;31mTypeError\u001b[0m: __init__() got an unexpected keyword argument 'label'"
     ]
    },
    {
     "data": {
      "image/png": "[encoded data removed]",
      "text/plain": [
       "<Figure size 1152x720 with 1 Axes>"
      ]
     },
     "metadata": {
      "needs_background": "light"
     },
     "output_type": "display_data"
    }
   ],
   "source": [
    "# Plot fitted line, y test\n",
    "plt.figure(1, figsize=(16,10))\n",
    "plt.title('Linear Regression | Price vs Time')\n",
    "plt.plot(X_test, model.predict(X_test), color='r', label='Predicted Price')\n",
    "plt.subplots(X_test, y_test, edgecolor='w', label='Actual Price')\n",
    "\n",
    "plt.xlabel('Integer Date')\n",
    "plt.ylabel('Stock Price in $')\n",
    "\n",
    "plt.show()"
   ]
  },
  {
   "cell_type": "code",
   "execution_count": 32,
   "metadata": {},
   "outputs": [
    {
     "data": {
      "image/png": "[encoded data removed]",
      "text/plain": [
       "<Figure size 432x288 with 1 Axes>"
      ]
     },
     "metadata": {
      "needs_background": "light"
     },
     "output_type": "display_data"
    }
   ],
   "source": [
    "# Plot predicted vs actual prices\n",
    "plt.scatter(y_test, y_pred)\n",
    "\n",
    "plt.xlabel('Actual Prices')\n",
    "plt.ylabel('Predicted Prices')\n",
    "\n",
    "plt.title('Predicted vs Actual Price')\n",
    "\n",
    "plt.show()"
   ]
  },
  {
   "cell_type": "markdown",
   "metadata": {},
   "source": [
    "The data points are mostly close to a diagonal, which indicates, that the predicted values are close to the actual value and the model's performance is largerly quite good.  \n",
    "Yet there are some areas, around 55 to 65, the model seems to be quite random and shows no relationship between the predicted and actual value.  \n",
    "Also in the area around 85 - 110 the data point are spread out quite heavily and the predictions don't cover the values above 100."
   ]
  },
  {
   "cell_type": "markdown",
   "metadata": {},
   "source": [
    "#### Residual Histogram\n",
    "\n",
    "The residuals are nearly normally distributed around zero, with a slight skewedness to the right. "
   ]
  },
  {
   "cell_type": "code",
   "execution_count": null,
   "metadata": {},
   "outputs": [],
   "source": [
    "# Import norm package to plot normal distribution\n",
    "from scipy.stats import norm\n",
    "\n",
    "# Fit a normal distribution to the data:\n",
    "mu, std = norm.fit(y_test - y_pred)\n",
    "\n",
    "ax = sns.distplot((y_test - y_pred), label='Residual Histogram & Distribution')\n",
    "\n",
    "# Calculate the pdf over a range of values         \n",
    "x = np.linspace(min(y_test - y_pred), max(y_test - y_pred), 100)\n",
    "p = norm.pdf(x, mu, std)\n",
    "\n",
    "# And plot on the same axes that seaborn put the histogram\n",
    "ax.plot(x, p, 'r', lw=2, label='Normal Distribution') \n",
    "\n",
    "plt.legend()\n",
    "plt.show()"
   ]
  },
  {
   "cell_type": "code",
   "execution_count": null,
   "metadata": {},
   "outputs": [],
   "source": [
    "# Add new column for predictions to df\n",
    "# df1['Prediction'] = model.predict(np.array(df.index).reshape(-1, 1))"
   ]
  },
  {
   "cell_type": "code",
   "execution_count": null,
   "metadata": {},
   "outputs": [],
   "source": [
    "df1.head()"
   ]
  },
  {
   "cell_type": "markdown",
   "metadata": {},
   "source": [
    "### Error Evaluation Metrics\n",
    "\n",
    "**Mean Absolute Error (MAE)** is the mean of the absolute value of the errors:\n",
    "$$\n",
    "\\frac{1}{N} \\sum_{i = 1}^{N} |y_i - \\hat{y}_i|\n",
    "$$\n",
    "\n",
    "**Mean Squared Error (MSE)** is the mean of the squared errors:\n",
    "$$\n",
    "\\frac{1}{N} \\sum_{i = 1}^{N} (y_i - \\hat{y}_i)^2\n",
    "$$\n",
    "\n",
    "**Root Mean Squared Error (RMSE)** is the square root of the mean of the squared errors:\n",
    "$$\n",
    "\\sqrt{\\frac{1}{N} \\sum_{i = 1}^{N} (y_i - \\hat{y}_i)^2}\n",
    "$$\n",
    "\n",
    "All of these are **cost functions** we want to minimize."
   ]
  },
  {
   "cell_type": "code",
   "execution_count": null,
   "metadata": {},
   "outputs": [],
   "source": [
    "# Import metrics package from sklearn for statistical analysis\n",
    "from sklearn import metrics"
   ]
  },
  {
   "cell_type": "code",
   "execution_count": null,
   "metadata": {},
   "outputs": [],
   "source": [
    "# Statistical summary of test data\n",
    "df['Close'].describe()"
   ]
  },
  {
   "cell_type": "code",
   "execution_count": null,
   "metadata": {},
   "outputs": [],
   "source": [
    "# Calculate and print values of MAE, MSE, RMSE\n",
    "print('Mean Absolute Error:', metrics.mean_absolute_error(y_test, y_pred))  \n",
    "print('Mean Squared Error:', metrics.mean_squared_error(y_test, y_pred))  \n",
    "print('Root Mean Squared Error:', np.sqrt(metrics.mean_squared_error(y_test, y_pred)))"
   ]
  },
  {
   "cell_type": "markdown",
   "metadata": {},
   "source": [
    "* The MAE is 3% (of minimum) and 6% (of maximum) of the Closing Price.\n",
    "* The other two errors are larger, because the errors are squared and have therefore a greater influence on the result."
   ]
  },
  {
   "cell_type": "markdown",
   "metadata": {},
   "source": [
    "### Accuracy Evaluation Metrics\n",
    "\n",
    "To see how accurate our model is, we can calculate the **Coefficient of determination**, which describes the ratio between the total error and the error, that is explained by our model. It's value is between 0 and 1, with 1 meaning 100% of the error is acoounted for by the model. \n",
    "\n",
    "**Coefficient of determination**\n",
    "$$\n",
    "R^2 = 1 - \\frac{RSS}{TSS}\n",
    "$$\n",
    "\n",
    "with  \n",
    "\n",
    "**Residual Sum of Squares (RSS)**\n",
    "$$\n",
    "RSS = \\sum_{i = 1}^{N} \\epsilon_i^2 = \\sum_{i = 1}^{N} (y_i - \\hat{y}_i)^2\n",
    "$$\n",
    "\n",
    "**Total Sum of Squares (TSS)**\n",
    "$$\n",
    "TSS = \\sum_{i = 1}^{N} (y_i - \\bar{y}_i)^2\n",
    "$$\n"
   ]
  },
  {
   "cell_type": "code",
   "execution_count": null,
   "metadata": {},
   "outputs": [],
   "source": [
    "print('R2: ', metrics.r2_score(y_test, y_pred))"
   ]
  },
  {
   "cell_type": "code",
   "execution_count": null,
   "metadata": {},
   "outputs": [],
   "source": [
    "from sklearn.metrics import explained_variance_score\n",
    "explained_variance_score(y_test, y_pred)"
   ]
  },
  {
   "cell_type": "markdown",
   "metadata": {},
   "source": [
    "The value of $R^2$ shows that are model accounts for nearly 94% of the differences between the actual stock prices and the predicted prices. "
   ]
  },
  {
   "cell_type": "code",
   "execution_count": null,
   "metadata": {},
   "outputs": [],
   "source": []
  },
  {
   "cell_type": "code",
   "execution_count": null,
   "metadata": {},
   "outputs": [],
   "source": []
  }
 ],
 "metadata": {
  "kernelspec": {
   "display_name": "Python 3",
   "language": "python",
   "name": "python3"
  },
  "language_info": {
   "codemirror_mode": {
    "name": "ipython",
    "version": 3
   },
   "file_extension": ".py",
   "mimetype": "text/x-python",
   "name": "python",
   "nbconvert_exporter": "python",
   "pygments_lexer": "ipython3",
   "version": "3.6.7"
  }
 },
 "nbformat": 4,
 "nbformat_minor": 2
}
